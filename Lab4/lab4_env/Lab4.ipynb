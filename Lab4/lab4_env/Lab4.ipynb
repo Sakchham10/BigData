{
 "cells": [
  {
   "cell_type": "code",
   "execution_count": 8,
   "metadata": {},
   "outputs": [
    {
     "name": "stderr",
     "output_type": "stream",
     "text": [
      "Training: 100%|██████████| 20/20 [02:26<00:00,  7.35s/it]\n"
     ]
    },
    {
     "name": "stdout",
     "output_type": "stream",
     "text": [
      "Confusion Matrix:\n",
      "[[56759   104]\n",
      " [  108   384]]\n",
      "\n",
      "Classification Report:\n",
      "              precision    recall  f1-score   support\n",
      "\n",
      "      Normal       1.00      1.00      1.00     56863\n",
      "       Fraud       0.79      0.78      0.78       492\n",
      "\n",
      "    accuracy                           1.00     57355\n",
      "   macro avg       0.89      0.89      0.89     57355\n",
      "weighted avg       1.00      1.00      1.00     57355\n",
      "\n",
      "\n",
      "ROC-AUC Score: 0.9590\n"
     ]
    }
   ],
   "source": [
    "import pandas as pd\n",
    "from sklearn.model_selection import train_test_split\n",
    "from sklearn.preprocessing import StandardScaler\n",
    "from pyod.models.auto_encoder import AutoEncoder\n",
    "from sklearn.metrics import classification_report, confusion_matrix, roc_auc_score\n",
    "\n",
    "# Load the dataset\n",
    "df = pd.read_csv('creditcard.csv')\n",
    "\n",
    "# Scale numerical features\n",
    "scaler = StandardScaler()\n",
    "df['scaled_amount'] = scaler.fit_transform(df['Amount'].values.reshape(-1, 1))\n",
    "df['scaled_time'] = scaler.fit_transform(df['Time'].values.reshape(-1, 1))\n",
    "df = df.drop(['Time', 'Amount'], axis=1)\n",
    "\n",
    "# Separate normal and fraudulent transactions\n",
    "normal_df = df[df['Class'] == 0]\n",
    "fraud_df = df[df['Class'] == 1]\n",
    "\n",
    "# Prepare training and testing data\n",
    "X_train, X_test_normal = train_test_split(normal_df.drop('Class', axis=1), test_size=0.2, random_state=42)\n",
    "X_test = pd.concat([X_test_normal, fraud_df.drop('Class', axis=1)])\n",
    "y_test = pd.concat([pd.Series([0] * len(X_test_normal)), pd.Series([1] * len(fraud_df))])\n",
    "\n",
    "# Instantiate and train the AutoEncoder model with the corrected parameter\n",
    "clf = AutoEncoder(\n",
    "    epoch_num=20,\n",
    "    batch_size=32,\n",
    "    contamination=len(fraud_df) / len(df)\n",
    ")\n",
    "clf.fit(X_train.values)\n",
    "\n",
    "# Make predictions on the test set\n",
    "y_test_scores = clf.decision_function(X_test.values)\n",
    "y_test_pred = clf.predict(X_test.values)\n",
    "\n",
    "# Evaluate the model's performance\n",
    "print(\"Confusion Matrix:\")\n",
    "print(confusion_matrix(y_test, y_test_pred))\n",
    "print(\"\\nClassification Report:\")\n",
    "print(classification_report(y_test, y_test_pred, target_names=['Normal', 'Fraud']))\n",
    "print(f\"\\nROC-AUC Score: {roc_auc_score(y_test, y_test_scores):.4f}\")"
   ]
  },
  {
   "cell_type": "code",
   "execution_count": null,
   "metadata": {},
   "outputs": [],
   "source": []
  }
 ],
 "metadata": {
  "kernelspec": {
   "display_name": "Python 3",
   "language": "python",
   "name": "python3"
  },
  "language_info": {
   "codemirror_mode": {
    "name": "ipython",
    "version": 3
   },
   "file_extension": ".py",
   "mimetype": "text/x-python",
   "name": "python",
   "nbconvert_exporter": "python",
   "pygments_lexer": "ipython3",
   "version": "3.9.6"
  }
 },
 "nbformat": 4,
 "nbformat_minor": 2
}
